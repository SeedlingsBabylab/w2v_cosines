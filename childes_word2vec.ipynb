{
 "cells": [
  {
   "cell_type": "code",
   "execution_count": 1,
   "metadata": {
    "collapsed": true
   },
   "outputs": [],
   "source": [
    "import word2vec\n",
    "import numpy as np"
   ]
  },
  {
   "cell_type": "code",
   "execution_count": 2,
   "metadata": {
    "collapsed": false
   },
   "outputs": [
    {
     "name": "stdout",
     "output_type": "stream",
     "text": [
      "Starting training using file CHILDES_words_stemmed.txt\n",
      "Words processed: 9900K     Vocab size: 1032K  \n",
      "Vocab size (unigrams + bigrams): 608615\n",
      "Words in train file: 9916039\n"
     ]
    }
   ],
   "source": [
    "word2vec.word2phrase(\"CHILDES_words_stemmed.txt\", \"childes_phrases\", verbose=True)"
   ]
  },
  {
   "cell_type": "code",
   "execution_count": 3,
   "metadata": {
    "collapsed": false
   },
   "outputs": [
    {
     "name": "stdout",
     "output_type": "stream",
     "text": [
      "Starting training using file childes_phrases\n",
      "Vocab size: 18200\n",
      "Words in train file: 9607185\n",
      "Alpha: 0.000002  Progress: 100.08%  Words/thread/sec: 394.25k  "
     ]
    }
   ],
   "source": [
    "word2vec.word2vec(\"childes_phrases\", \"childes.bin\", size=100, verbose=True)"
   ]
  },
  {
   "cell_type": "code",
   "execution_count": 4,
   "metadata": {
    "collapsed": true
   },
   "outputs": [],
   "source": [
    "model = word2vec.load(\"childes.bin\")"
   ]
  },
  {
   "cell_type": "code",
   "execution_count": 5,
   "metadata": {
    "collapsed": false
   },
   "outputs": [],
   "source": [
    "def compare_words(model, a, b):\n",
    "    return np.dot(model[a], model[b])"
   ]
  },
  {
   "cell_type": "code",
   "execution_count": 6,
   "metadata": {
    "collapsed": true
   },
   "outputs": [],
   "source": [
    "def compare_wordpairs(model, wordpairs):\n",
    "    results = []\n",
    "    for a, b in wordpairs:\n",
    "        result = compare_words(model, a, b)\n",
    "        results.append((a, b, result))\n",
    "    return results\n",
    "        "
   ]
  },
  {
   "cell_type": "code",
   "execution_count": 7,
   "metadata": {
    "collapsed": true
   },
   "outputs": [],
   "source": [
    "#inputs are stemmed/lemmatized \n",
    "\n",
    "related_word_pairs = [\n",
    "    (\"foot\", \"hand\"),\n",
    "    (\"stroller\", \"car\"),\n",
    "    (\"juic\", \"milk\"),\n",
    "    (\"mouth\", \"nose\"),\n",
    "    (\"book\", \"ball\"),\n",
    "    (\"blanket\", \"diaper\"),\n",
    "    (\"bottl\", \"spoon\"),\n",
    "    (\"dog\", \"baby\"),\n",
    "    (\"foot\", \"sock\"),\n",
    "    (\"cooki\", \"banana\")\n",
    "    \n",
    "]\n",
    "\n",
    "unrelated_word_pairs = [\n",
    "    (\"sock\", \"juic\"),\n",
    "    (\"milk\", \"foot\"),\n",
    "    (\"banana\", \"nose\"),\n",
    "    (\"mouth\", \"cooki\"),\n",
    "    (\"blanket\", \"dog\"),\n",
    "    (\"baby\", \"spoon\"),\n",
    "    (\"book\", \"diaper\"),\n",
    "    (\"juic\", \"car\"),\n",
    "    (\"nose\", \"bottl\"),\n",
    "    (\"hand\", \"stroller\"),\n",
    "    (\"mouth\", \"ball\")\n",
    "]"
   ]
  },
  {
   "cell_type": "code",
   "execution_count": 8,
   "metadata": {
    "collapsed": false
   },
   "outputs": [
    {
     "data": {
      "text/plain": [
       "[('foot', 'hand', 0.56778342154421191),\n",
       " ('stroller', 'car', 0.44188255887566497),\n",
       " ('juic', 'milk', 0.70017456914711618),\n",
       " ('mouth', 'nose', 0.66798379479060188),\n",
       " ('book', 'ball', 0.28796293134357476),\n",
       " ('blanket', 'diaper', 0.5355184516920084),\n",
       " ('bottl', 'spoon', 0.45433028940142123),\n",
       " ('dog', 'baby', 0.046064328756865239),\n",
       " ('foot', 'sock', 0.56756271901978494),\n",
       " ('cooki', 'banana', 0.51682242373312681)]"
      ]
     },
     "execution_count": 8,
     "metadata": {},
     "output_type": "execute_result"
    }
   ],
   "source": [
    "related_cosines = compare_wordpairs(model, related_word_pairs)\n",
    "related_cosines"
   ]
  },
  {
   "cell_type": "code",
   "execution_count": 9,
   "metadata": {
    "collapsed": false
   },
   "outputs": [
    {
     "data": {
      "text/plain": [
       "[('sock', 'juic', 0.17634150647380531),\n",
       " ('milk', 'foot', 0.0035031428200891293),\n",
       " ('banana', 'nose', 0.15245716360294184),\n",
       " ('mouth', 'cooki', 0.26498572964811606),\n",
       " ('blanket', 'dog', 0.20387685738549116),\n",
       " ('baby', 'spoon', -0.068040768583578271),\n",
       " ('book', 'diaper', 0.28924283146169399),\n",
       " ('juic', 'car', 0.17786088384688709),\n",
       " ('nose', 'bottl', 0.30409555029466739),\n",
       " ('hand', 'stroller', 0.30985857725999399),\n",
       " ('mouth', 'ball', 0.18538889276084816)]"
      ]
     },
     "execution_count": 9,
     "metadata": {},
     "output_type": "execute_result"
    }
   ],
   "source": [
    "unrelated_cosines = compare_wordpairs(model, unrelated_word_pairs)\n",
    "unrelated_cosines"
   ]
  },
  {
   "cell_type": "code",
   "execution_count": 10,
   "metadata": {
    "collapsed": false
   },
   "outputs": [
    {
     "name": "stdout",
     "output_type": "stream",
     "text": [
      "average related cos(theta): 0.47860854883\n"
     ]
    }
   ],
   "source": [
    "related_avg_cos = sum(result[2] for result in related_cosines)/len(related_cosines)\n",
    "print \"average related cos(theta): {}\".format(related_avg_cos)"
   ]
  },
  {
   "cell_type": "code",
   "execution_count": 11,
   "metadata": {
    "collapsed": false
   },
   "outputs": [
    {
     "name": "stdout",
     "output_type": "stream",
     "text": [
      "average related cos(theta): 0.18177912427\n"
     ]
    }
   ],
   "source": [
    "unrelated_avg_cos = sum(result[2] for result in unrelated_cosines)/len(unrelated_cosines)\n",
    "print \"average related cos(theta): {}\".format(unrelated_avg_cos)"
   ]
  },
  {
   "cell_type": "code",
   "execution_count": null,
   "metadata": {
    "collapsed": true
   },
   "outputs": [],
   "source": []
  }
 ],
 "metadata": {
  "kernelspec": {
   "display_name": "Python 2",
   "language": "python",
   "name": "python2"
  },
  "language_info": {
   "codemirror_mode": {
    "name": "ipython",
    "version": 2
   },
   "file_extension": ".py",
   "mimetype": "text/x-python",
   "name": "python",
   "nbconvert_exporter": "python",
   "pygments_lexer": "ipython2",
   "version": "2.7.12"
  }
 },
 "nbformat": 4,
 "nbformat_minor": 1
}
