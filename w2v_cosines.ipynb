{
 "cells": [
  {
   "cell_type": "code",
   "execution_count": 5,
   "metadata": {
    "collapsed": true
   },
   "outputs": [],
   "source": [
    "import word2vec\n",
    "import numpy as np"
   ]
  },
  {
   "cell_type": "code",
   "execution_count": 6,
   "metadata": {
    "collapsed": false
   },
   "outputs": [
    {
     "name": "stdout",
     "output_type": "stream",
     "text": [
      "Starting training using file CHILDES_words_stemmed.txt\n",
      "Words processed: 9900K     Vocab size: 1032K  \n",
      "Vocab size (unigrams + bigrams): 608615\n",
      "Words in train file: 9916039\n"
     ]
    }
   ],
   "source": [
    "word2vec.word2phrase(\"CHILDES_words_stemmed.txt\", \"childes_phrases\", verbose=True)"
   ]
  },
  {
   "cell_type": "code",
   "execution_count": 7,
   "metadata": {
    "collapsed": false
   },
   "outputs": [
    {
     "name": "stdout",
     "output_type": "stream",
     "text": [
      "Starting training using file childes_phrases\n",
      "Vocab size: 18200\n",
      "Words in train file: 9607185\n",
      "Alpha: 0.000002  Progress: 100.08%  Words/thread/sec: 380.40k  "
     ]
    }
   ],
   "source": [
    "word2vec.word2vec(\"childes_phrases\", \"childes.bin\", size=100, verbose=True)"
   ]
  },
  {
   "cell_type": "code",
   "execution_count": 8,
   "metadata": {
    "collapsed": true
   },
   "outputs": [],
   "source": [
    "model = word2vec.load(\"childes.bin\")"
   ]
  },
  {
   "cell_type": "code",
   "execution_count": 9,
   "metadata": {
    "collapsed": false
   },
   "outputs": [],
   "source": [
    "def compare_words(model, a, b):\n",
    "    \"\"\"\n",
    "    Returns cos(theta) of vector a and b.\n",
    "    a and b are strings, which are keys to \n",
    "    vectors held in the dictionary \"model\".\n",
    "    \n",
    "    model[a] and model[b] are already unit vectors\n",
    "    \"\"\"\n",
    "    return np.dot(model[a], model[b])"
   ]
  },
  {
   "cell_type": "code",
   "execution_count": 10,
   "metadata": {
    "collapsed": true
   },
   "outputs": [],
   "source": [
    "def compare_wordpairs(model, wordpairs):\n",
    "    \"\"\"\n",
    "    Calculates the cosine similarity of a\n",
    "    list of tuples. Each tuple is a word pair.\n",
    "    Returns a new list of tuples of the form:\n",
    "    \n",
    "    (word1, word2, cos(theta))\n",
    "    \n",
    "    \"\"\"\n",
    "    results = []\n",
    "    for a, b in wordpairs:\n",
    "        result = compare_words(model, a, b)\n",
    "        results.append((a, b, result))\n",
    "    return results\n",
    "        "
   ]
  },
  {
   "cell_type": "code",
   "execution_count": 11,
   "metadata": {
    "collapsed": true
   },
   "outputs": [],
   "source": [
    "#inputs are stemmed/lemmatized \n",
    "\n",
    "related_word_pairs = [\n",
    "    (\"foot\", \"hand\"),\n",
    "    (\"stroller\", \"car\"),\n",
    "    (\"juic\", \"milk\"),\n",
    "    (\"mouth\", \"nose\"),\n",
    "    (\"book\", \"ball\"),\n",
    "    (\"blanket\", \"diaper\"),\n",
    "    (\"bottl\", \"spoon\"),\n",
    "    (\"dog\", \"baby\"),\n",
    "    (\"foot\", \"sock\"),\n",
    "    (\"cooki\", \"banana\")\n",
    "    \n",
    "]\n",
    "\n",
    "unrelated_word_pairs = [\n",
    "    (\"sock\", \"juic\"),\n",
    "    (\"milk\", \"foot\"),\n",
    "    (\"banana\", \"nose\"),\n",
    "    (\"mouth\", \"cooki\"),\n",
    "    (\"blanket\", \"dog\"),\n",
    "    (\"baby\", \"spoon\"),\n",
    "    (\"book\", \"diaper\"),\n",
    "    (\"juic\", \"car\"),\n",
    "    (\"nose\", \"bottl\"),\n",
    "    (\"hand\", \"stroller\"),\n",
    "    (\"mouth\", \"ball\")\n",
    "]"
   ]
  },
  {
   "cell_type": "code",
   "execution_count": 12,
   "metadata": {
    "collapsed": true
   },
   "outputs": [],
   "source": [
    "def average_cosine(cosines):\n",
    "    return sum(result[2] for result in cosines)/len(cosines)"
   ]
  },
  {
   "cell_type": "code",
   "execution_count": 13,
   "metadata": {
    "collapsed": false
   },
   "outputs": [
    {
     "data": {
      "text/plain": [
       "[('foot', 'hand', 0.55069966145371874),\n",
       " ('stroller', 'car', 0.43117714030997534),\n",
       " ('juic', 'milk', 0.7109627977088071),\n",
       " ('mouth', 'nose', 0.69362326696385701),\n",
       " ('book', 'ball', 0.29073856030497403),\n",
       " ('blanket', 'diaper', 0.52490226748063895),\n",
       " ('bottl', 'spoon', 0.47165861800515274),\n",
       " ('dog', 'baby', 0.048514650707260847),\n",
       " ('foot', 'sock', 0.56849175319594702),\n",
       " ('cooki', 'banana', 0.52113984500368349)]"
      ]
     },
     "execution_count": 13,
     "metadata": {},
     "output_type": "execute_result"
    }
   ],
   "source": [
    "related_cosines = compare_wordpairs(model, related_word_pairs)\n",
    "related_cosines"
   ]
  },
  {
   "cell_type": "code",
   "execution_count": 14,
   "metadata": {
    "collapsed": false
   },
   "outputs": [
    {
     "data": {
      "text/plain": [
       "[('sock', 'juic', 0.1762098996508587),\n",
       " ('milk', 'foot', 0.017896816560221504),\n",
       " ('banana', 'nose', 0.11117093069754369),\n",
       " ('mouth', 'cooki', 0.29515949890897475),\n",
       " ('blanket', 'dog', 0.221154754802494),\n",
       " ('baby', 'spoon', -0.084157055534362715),\n",
       " ('book', 'diaper', 0.29024004450549301),\n",
       " ('juic', 'car', 0.16472713773679337),\n",
       " ('nose', 'bottl', 0.29865475501722305),\n",
       " ('hand', 'stroller', 0.32651667681896479),\n",
       " ('mouth', 'ball', 0.19941315916092889)]"
      ]
     },
     "execution_count": 14,
     "metadata": {},
     "output_type": "execute_result"
    }
   ],
   "source": [
    "unrelated_cosines = compare_wordpairs(model, unrelated_word_pairs)\n",
    "unrelated_cosines"
   ]
  },
  {
   "cell_type": "code",
   "execution_count": 15,
   "metadata": {
    "collapsed": false
   },
   "outputs": [
    {
     "data": {
      "text/plain": [
       "0.48119085611340157"
      ]
     },
     "execution_count": 15,
     "metadata": {},
     "output_type": "execute_result"
    }
   ],
   "source": [
    "average_cosine(related_cosines)"
   ]
  },
  {
   "cell_type": "code",
   "execution_count": 17,
   "metadata": {
    "collapsed": false
   },
   "outputs": [
    {
     "data": {
      "text/plain": [
       "0.18336241984773938"
      ]
     },
     "execution_count": 17,
     "metadata": {},
     "output_type": "execute_result"
    }
   ],
   "source": [
    "average_cosine(unrelated_cosines)"
   ]
  },
  {
   "cell_type": "code",
   "execution_count": null,
   "metadata": {
    "collapsed": true
   },
   "outputs": [],
   "source": []
  }
 ],
 "metadata": {
  "kernelspec": {
   "display_name": "Python 2",
   "language": "python",
   "name": "python2"
  },
  "language_info": {
   "codemirror_mode": {
    "name": "ipython",
    "version": 2
   },
   "file_extension": ".py",
   "mimetype": "text/x-python",
   "name": "python",
   "nbconvert_exporter": "python",
   "pygments_lexer": "ipython2",
   "version": "2.7.12"
  }
 },
 "nbformat": 4,
 "nbformat_minor": 1
}
